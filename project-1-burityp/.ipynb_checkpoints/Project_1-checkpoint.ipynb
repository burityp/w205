{
 "cells": [
  {
   "cell_type": "markdown",
   "metadata": {},
   "source": [
    "# W205 - Project 1\n",
    "\n",
    "#### Priscilla Burity"
   ]
  },
  {
   "cell_type": "markdown",
   "metadata": {},
   "source": [
    "Using data on bike trips and stations in San Fransisco, I'll use SQL queries and data visualizations to answer the following questions:\n",
    "  \n",
    "  * What are the 5 most popular trips that you would call \"commuter trips\"? \n",
    "  \n",
    "  * What are your recommendations for offers (justify based on your findings)?"
   ]
  },
  {
   "cell_type": "code",
   "execution_count": 1,
   "metadata": {},
   "outputs": [],
   "source": [
    "import pandas as pd\n",
    "import matplotlib as plt"
   ]
  },
  {
   "cell_type": "markdown",
   "metadata": {},
   "source": [
    "Most of the  trips in the dataset start in the morning and in the afternoon. \n",
    "\n",
    "SQL query:\n",
    "\n",
    "```\n",
    "select count(*) as total,\n",
    "       sum(case when EXTRACT(hour FROM start_date) < 12 then 1 else 0 end) as Morning,\n",
    "       sum(case when EXTRACT(hour FROM start_date) >= 12 and EXTRACT(hour FROM start_date) < 18 then 1 else 0 end) as Afternoon,\n",
    "       sum(case when EXTRACT(hour FROM start_date) >= 18 then 1 else 0 end) as Evening\n",
    "from `bigquery-public-data.san_francisco.bikeshare_trips` \n",
    "```\n"
   ]
  },
  {
   "cell_type": "code",
   "execution_count": 2,
   "metadata": {},
   "outputs": [
    {
     "name": "stdout",
     "output_type": "stream",
     "text": [
      "Waiting on bqjob_r373f480f02244cc5_00000174abe4cc5b_1 ... (0s) Current status: DONE   \n"
     ]
    },
    {
     "data": {
      "text/plain": [
       "<AxesSubplot:>"
      ]
     },
     "execution_count": 2,
     "metadata": {},
     "output_type": "execute_result"
    },
    {
     "data": {
      "image/png": "[encoded data removed]",
      "text/plain": [
       "<Figure size 432x288 with 1 Axes>"
      ]
     },
     "metadata": {
      "needs_background": "light"
     },
     "output_type": "display_data"
    }
   ],
   "source": [
    "! bq query --use_legacy_sql=FALSE --format=csv 'select count(*) as total, sum(case when EXTRACT(hour FROM start_date) < 12 then 1 else 0 end) as Morning, sum(case when EXTRACT(hour FROM start_date) >= 12 and EXTRACT(hour FROM start_date) < 18 then 1 else 0 end) as Afternoon, sum(case when EXTRACT(hour FROM start_date) >= 18 then 1 else 0 end) as Evening from `bigquery-public-data.san_francisco.bikeshare_trips` '> result0.csv\n",
    "trips_per_turn = pd.read_csv('result0.csv')\n",
    "del trips_per_turn['total']\n",
    "\n",
    "ax = trips_per_turn.plot.bar(rot=0)\n",
    "ax\n"
   ]
  },
  {
   "cell_type": "markdown",
   "metadata": {},
   "source": [
    "67% of total trips that occur in typical commuter hours. \n",
    "\n",
    "SQL query:\n",
    "```\n",
    "    select count(*) as total_trips,\n",
    "       sum(case when (EXTRACT(hour FROM start_date) >= 5 and EXTRACT(hour FROM start_date) < 10) then 1 else 0 end)/(select count(*) from `bigquery-public-data.san_francisco.bikeshare_trips` ) as share_morning,\n",
    "       sum(case when (EXTRACT(hour FROM start_date) >= 16 and EXTRACT(hour FROM start_date) < 20) then 1 else 0 end)/(select count(*) from `bigquery-public-data.san_francisco.bikeshare_trips` ) as share_evening\n",
    "from `bigquery-public-data.san_francisco.bikeshare_trips` \n",
    "\n",
    "```\n",
    "\n",
    "Aditionally, 20% of trips  of the dataset can be labeled as typical cummuter trips, as 10% of total trips start in the morning from train stations and 10% of total trips started in the evening end at train stations. I assume that commuters typically get at train and ferry boat stations in the morning and take a bike to go their workplace, and do the opposite at the end of the workday. The train and ferry boat stations we considered for this analysis are San Francisco Caltrain (Townsend at 4th), San Francisco Caltrain 2 (330 Townsend) and Harry Bridges Plaza (Ferry Building). The typical commuting hours is from 5AM to 10AM and between 4PM and 8PM.   \n",
    "\n",
    "SQL query:\n",
    "```\n",
    "    select count(*) as total,\n",
    "       sum(case when (EXTRACT(hour FROM start_date) >= 5 and EXTRACT(hour FROM start_date) < 10) and (start_station_name = \"San Francisco Caltrain (Townsend at 4th)\" or start_station_name = \"San Francisco Caltrain 2 (330 Townsend)\" or start_station_name = \"Harry Bridges Plaza (Ferry Building)\") then 1 else 0 end)/(select count(*) from `bigquery-public-data.san_francisco.bikeshare_trips` ) as share_morning_start_trainstat,\n",
    "       sum(case when (EXTRACT(hour FROM start_date) >= 16 and EXTRACT(hour FROM start_date) < 20) and (end_station_name = \"San Francisco Caltrain (Townsend at 4th)\" or end_station_name = \"San Francisco Caltrain 2 (330 Townsend)\" or end_station_name = \"Harry Bridges Plaza (Ferry Building)\") then 1 else 0 end)/(select count(*) from `bigquery-public-data.san_francisco.bikeshare_trips` ) as share_evening_end_trainstat\n",
    "from `bigquery-public-data.san_francisco.bikeshare_trips` \n",
    "\n",
    "```"
   ]
  },
  {
   "cell_type": "code",
   "execution_count": 3,
   "metadata": {},
   "outputs": [
    {
     "name": "stdout",
     "output_type": "stream",
     "text": [
      "Waiting on bqjob_r4842beb43f3e8c80_00000174abe4d4d2_1 ... (0s) Current status: DONE   \n"
     ]
    },
    {
     "data": {
      "text/html": [
       "<div>\n",
       "<style scoped>\n",
       "    .dataframe tbody tr th:only-of-type {\n",
       "        vertical-align: middle;\n",
       "    }\n",
       "\n",
       "    .dataframe tbody tr th {\n",
       "        vertical-align: top;\n",
       "    }\n",
       "\n",
       "    .dataframe thead th {\n",
       "        text-align: right;\n",
       "    }\n",
       "</style>\n",
       "<table border=\"1\" class=\"dataframe\">\n",
       "  <thead>\n",
       "    <tr style=\"text-align: right;\">\n",
       "      <th></th>\n",
       "      <th>% of trips started from 5AM to 10AM leaving from train stations</th>\n",
       "      <th>% of trips started from 4PM to 8PM ending at train stations</th>\n",
       "    </tr>\n",
       "    <tr>\n",
       "      <th>Total trips</th>\n",
       "      <th></th>\n",
       "      <th></th>\n",
       "    </tr>\n",
       "  </thead>\n",
       "  <tbody>\n",
       "    <tr>\n",
       "      <th>983648</th>\n",
       "      <td>0.098207</td>\n",
       "      <td>0.105664</td>\n",
       "    </tr>\n",
       "  </tbody>\n",
       "</table>\n",
       "</div>"
      ],
      "text/plain": [
       "             % of trips started from 5AM to 10AM leaving from train stations  \\\n",
       "Total trips                                                                    \n",
       "983648                                                0.098207                 \n",
       "\n",
       "             % of trips started from 4PM to 8PM ending at train stations  \n",
       "Total trips                                                               \n",
       "983648                                                0.105664            "
      ]
     },
     "execution_count": 3,
     "metadata": {},
     "output_type": "execute_result"
    }
   ],
   "source": [
    "! bq query --use_legacy_sql=FALSE --format=csv '    select count(*) as total, sum(case when (EXTRACT(hour FROM start_date) >= 5 and EXTRACT(hour FROM start_date) < 10) and (start_station_name = \"San Francisco Caltrain (Townsend at 4th)\" or start_station_name = \"San Francisco Caltrain 2 (330 Townsend)\" or start_station_name = \"Harry Bridges Plaza (Ferry Building)\") then 1 else 0 end)/(select count(*) from `bigquery-public-data.san_francisco.bikeshare_trips` ) as share_morning_start_trainstat, sum(case when (EXTRACT(hour FROM start_date) >= 16 and EXTRACT(hour FROM start_date) < 20) and (end_station_name = \"San Francisco Caltrain (Townsend at 4th)\" or end_station_name = \"San Francisco Caltrain 2 (330 Townsend)\" or end_station_name = \"Harry Bridges Plaza (Ferry Building)\") then 1 else 0 end)/(select count(*) from `bigquery-public-data.san_francisco.bikeshare_trips` ) as share_evening_end_trainstat from `bigquery-public-data.san_francisco.bikeshare_trips` '> result01.csv\n",
    "share_commuter_trips1 = pd.read_csv('result01.csv')\n",
    "share_commuter_trips1.columns = ['Total trips', '% of trips started from 5AM to 10AM leaving from train stations', '% of trips started from 4PM to 8PM ending at train stations']\n",
    "share_commuter_trips1.set_index('Total trips', inplace=True)\n",
    "share_commuter_trips1"
   ]
  },
  {
   "cell_type": "markdown",
   "metadata": {},
   "source": [
    "San Francisco Caltrain stations and the Ferry Building are the most popular start stations.\n",
    "\n",
    "SQL query \n",
    "\n",
    "```\n",
    "\n",
    "    SELECT  start_station_name ,\n",
    "    COUNT( start_station_name ) AS `trips_per_station` \n",
    "    FROM     `bigquery-public-data.san_francisco.bikeshare_trips`\n",
    "    GROUP BY start_station_name\n",
    "    ORDER BY `trips_per_station` DESC \n",
    "    LIMIT 10\n",
    "````\n"
   ]
  },
  {
   "cell_type": "code",
   "execution_count": 4,
   "metadata": {},
   "outputs": [
    {
     "name": "stdout",
     "output_type": "stream",
     "text": [
      "Waiting on bqjob_r45c27c93e85bfbe5_00000174abe4dc3a_1 ... (0s) Current status: DONE   \n"
     ]
    },
    {
     "data": {
      "text/plain": [
       "<AxesSubplot:xlabel='start_station_name'>"
      ]
     },
     "execution_count": 4,
     "metadata": {},
     "output_type": "execute_result"
    },
    {
     "data": {
      "image/png": "[encoded data removed]",
      "text/plain": [
       "<Figure size 432x288 with 1 Axes>"
      ]
     },
     "metadata": {
      "needs_background": "light"
     },
     "output_type": "display_data"
    }
   ],
   "source": [
    "! bq query --use_legacy_sql=FALSE --format=csv '    SELECT  start_station_name , COUNT( start_station_name ) AS `trips_per_station`   FROM     `bigquery-public-data.san_francisco.bikeshare_trips` GROUP BY start_station_name ORDER BY `trips_per_station` DESC LIMIT 10'> result11.csv\n",
    "pop_stations = pd.read_csv('result11.csv')\n",
    "pop_stations\n",
    "ax = pop_stations.plot.bar(x = 'start_station_name', y = 'trips_per_station')\n",
    "ax\n"
   ]
  },
  {
   "cell_type": "markdown",
   "metadata": {},
   "source": [
    "The 5 most popular trips early in the morning (when commuters are heading to office/school) are Harry Bridges Plaza (Ferry Building) to 2nd at Townsend, San Francisco Caltrain (Townsend at 4th) to Temporary Transbay Terminal (Howard at Beale), Steuart at Market to 2nd at Townsend, San Francisco Caltrain 2 (330 Townsend) to Townsend at 7th and San Francisco Caltrain (Townsend at 4th) to Embarcadero at Folsom.\n",
    "\n",
    "SQL query:\n",
    "\n",
    "```\n",
    "   SELECT start_station_name, end_station_name,\n",
    "       sum(case when (EXTRACT(hour FROM start_date) >=5 and EXTRACT(hour FROM start_date) < 10) then 1 else 0 end) as going_trip\n",
    "       FROM `bigquery-public-data.san_francisco.bikeshare_trips`\n",
    "       GROUP BY start_station_name, end_station_name\n",
    "       ORDER BY `going_trip` DESC\n",
    "       LIMIT 5    \n",
    "```"
   ]
  },
  {
   "cell_type": "code",
   "execution_count": 5,
   "metadata": {},
   "outputs": [
    {
     "name": "stdout",
     "output_type": "stream",
     "text": [
      "Waiting on bqjob_r5fe905f836d93693_00000174abe4e48f_1 ... (0s) Current status: DONE   \n"
     ]
    },
    {
     "data": {
      "text/html": [
       "<div>\n",
       "<style scoped>\n",
       "    .dataframe tbody tr th:only-of-type {\n",
       "        vertical-align: middle;\n",
       "    }\n",
       "\n",
       "    .dataframe tbody tr th {\n",
       "        vertical-align: top;\n",
       "    }\n",
       "\n",
       "    .dataframe thead th {\n",
       "        text-align: right;\n",
       "    }\n",
       "</style>\n",
       "<table border=\"1\" class=\"dataframe\">\n",
       "  <thead>\n",
       "    <tr style=\"text-align: right;\">\n",
       "      <th></th>\n",
       "      <th>start_station_name</th>\n",
       "      <th>end_station_name</th>\n",
       "      <th>going_trip</th>\n",
       "    </tr>\n",
       "  </thead>\n",
       "  <tbody>\n",
       "    <tr>\n",
       "      <th>0</th>\n",
       "      <td>Harry Bridges Plaza (Ferry Building)</td>\n",
       "      <td>2nd at Townsend</td>\n",
       "      <td>4855</td>\n",
       "    </tr>\n",
       "    <tr>\n",
       "      <th>1</th>\n",
       "      <td>San Francisco Caltrain (Townsend at 4th)</td>\n",
       "      <td>Temporary Transbay Terminal (Howard at Beale)</td>\n",
       "      <td>3856</td>\n",
       "    </tr>\n",
       "    <tr>\n",
       "      <th>2</th>\n",
       "      <td>Steuart at Market</td>\n",
       "      <td>2nd at Townsend</td>\n",
       "      <td>3840</td>\n",
       "    </tr>\n",
       "    <tr>\n",
       "      <th>3</th>\n",
       "      <td>San Francisco Caltrain 2 (330 Townsend)</td>\n",
       "      <td>Townsend at 7th</td>\n",
       "      <td>3629</td>\n",
       "    </tr>\n",
       "    <tr>\n",
       "      <th>4</th>\n",
       "      <td>San Francisco Caltrain (Townsend at 4th)</td>\n",
       "      <td>Embarcadero at Folsom</td>\n",
       "      <td>3626</td>\n",
       "    </tr>\n",
       "  </tbody>\n",
       "</table>\n",
       "</div>"
      ],
      "text/plain": [
       "                         start_station_name  \\\n",
       "0      Harry Bridges Plaza (Ferry Building)   \n",
       "1  San Francisco Caltrain (Townsend at 4th)   \n",
       "2                         Steuart at Market   \n",
       "3   San Francisco Caltrain 2 (330 Townsend)   \n",
       "4  San Francisco Caltrain (Townsend at 4th)   \n",
       "\n",
       "                                end_station_name  going_trip  \n",
       "0                                2nd at Townsend        4855  \n",
       "1  Temporary Transbay Terminal (Howard at Beale)        3856  \n",
       "2                                2nd at Townsend        3840  \n",
       "3                                Townsend at 7th        3629  \n",
       "4                          Embarcadero at Folsom        3626  "
      ]
     },
     "execution_count": 5,
     "metadata": {},
     "output_type": "execute_result"
    }
   ],
   "source": [
    "! bq query --use_legacy_sql=FALSE --format=csv 'SELECT start_station_name, end_station_name, sum(case when (EXTRACT(hour FROM start_date) >=5 and EXTRACT(hour FROM start_date) < 10) then 1 else 0 end) as going_trip FROM `bigquery-public-data.san_francisco.bikeshare_trips` GROUP BY start_station_name, end_station_name ORDER BY `going_trip` DESC LIMIT 5 '> result2.csv\n",
    "pop_stations_morning = pd.read_csv('result2.csv')\n",
    "pop_stations_morning"
   ]
  },
  {
   "cell_type": "markdown",
   "metadata": {},
   "source": [
    "On the other hand, the 5 most popular trips in the late afternoon and early evening (when commuters are returning home) are 2nd at Townsend to Harry Bridges Plaza (Ferry Building), Embarcadero at Sansome to Steuart at Market and Embarcadero at Folsom to San Francisco Caltrain (Townsend at 4th), 2nd at South Park to Market at Sansome and Steuart at Market to San Francisco Caltrain (Townsend at 4th). \n",
    "\n",
    "SQL query:\n",
    "\n",
    "```\n",
    "   SELECT start_station_name, end_station_name,\n",
    "       sum(case when EXTRACT(hour FROM start_date) >= 16 and EXTRACT(hour FROM start_date) < 20 then 1 else 0 end) as returning_trip,\n",
    "       FROM `bigquery-public-data.san_francisco.bikeshare_trips`\n",
    "       GROUP BY start_station_name, end_station_name\n",
    "       ORDER BY `returning_trip` DESC\n",
    "       LIMIT 5    \n",
    "```"
   ]
  },
  {
   "cell_type": "code",
   "execution_count": 6,
   "metadata": {},
   "outputs": [
    {
     "name": "stdout",
     "output_type": "stream",
     "text": [
      "Waiting on bqjob_r489f21af4014cada_00000174abe4ebca_1 ... (0s) Current status: DONE   \n"
     ]
    },
    {
     "data": {
      "text/html": [
       "<div>\n",
       "<style scoped>\n",
       "    .dataframe tbody tr th:only-of-type {\n",
       "        vertical-align: middle;\n",
       "    }\n",
       "\n",
       "    .dataframe tbody tr th {\n",
       "        vertical-align: top;\n",
       "    }\n",
       "\n",
       "    .dataframe thead th {\n",
       "        text-align: right;\n",
       "    }\n",
       "</style>\n",
       "<table border=\"1\" class=\"dataframe\">\n",
       "  <thead>\n",
       "    <tr style=\"text-align: right;\">\n",
       "      <th></th>\n",
       "      <th>start_station_name</th>\n",
       "      <th>end_station_name</th>\n",
       "      <th>returning_trip</th>\n",
       "    </tr>\n",
       "  </thead>\n",
       "  <tbody>\n",
       "    <tr>\n",
       "      <th>0</th>\n",
       "      <td>2nd at Townsend</td>\n",
       "      <td>Harry Bridges Plaza (Ferry Building)</td>\n",
       "      <td>4456</td>\n",
       "    </tr>\n",
       "    <tr>\n",
       "      <th>1</th>\n",
       "      <td>Embarcadero at Sansome</td>\n",
       "      <td>Steuart at Market</td>\n",
       "      <td>4282</td>\n",
       "    </tr>\n",
       "    <tr>\n",
       "      <th>2</th>\n",
       "      <td>Embarcadero at Folsom</td>\n",
       "      <td>San Francisco Caltrain (Townsend at 4th)</td>\n",
       "      <td>4180</td>\n",
       "    </tr>\n",
       "    <tr>\n",
       "      <th>3</th>\n",
       "      <td>2nd at South Park</td>\n",
       "      <td>Market at Sansome</td>\n",
       "      <td>3573</td>\n",
       "    </tr>\n",
       "    <tr>\n",
       "      <th>4</th>\n",
       "      <td>Steuart at Market</td>\n",
       "      <td>San Francisco Caltrain (Townsend at 4th)</td>\n",
       "      <td>3567</td>\n",
       "    </tr>\n",
       "  </tbody>\n",
       "</table>\n",
       "</div>"
      ],
      "text/plain": [
       "       start_station_name                          end_station_name  \\\n",
       "0         2nd at Townsend      Harry Bridges Plaza (Ferry Building)   \n",
       "1  Embarcadero at Sansome                         Steuart at Market   \n",
       "2   Embarcadero at Folsom  San Francisco Caltrain (Townsend at 4th)   \n",
       "3       2nd at South Park                         Market at Sansome   \n",
       "4       Steuart at Market  San Francisco Caltrain (Townsend at 4th)   \n",
       "\n",
       "   returning_trip  \n",
       "0            4456  \n",
       "1            4282  \n",
       "2            4180  \n",
       "3            3573  \n",
       "4            3567  "
      ]
     },
     "execution_count": 6,
     "metadata": {},
     "output_type": "execute_result"
    }
   ],
   "source": [
    "! bq query --use_legacy_sql=FALSE --format=csv '   SELECT start_station_name, end_station_name, sum(case when EXTRACT(hour FROM start_date) >= 16 and EXTRACT(hour FROM start_date) < 20 then 1 else 0 end) as returning_trip, FROM `bigquery-public-data.san_francisco.bikeshare_trips` GROUP BY start_station_name, end_station_name ORDER BY `returning_trip` DESC LIMIT 5 '> result3.csv\n",
    "pop_stations_evening = pd.read_csv('result3.csv')\n",
    "pop_stations_evening"
   ]
  },
  {
   "cell_type": "markdown",
   "metadata": {},
   "source": [
    "The most popular commuter trips start and end at train and ferry boat stations. As there are more potential costumers in these areas, I would recomend offers taking this into consideration. Examples: \n",
    "* A partnership with the train companies offering discounts in bike subscription fees for those who use the train system\n",
    "* As those who drive bikes potentially care for their health, I would consider a partnership with gym centers near train stations, possibly offering discounts in these centers' subscription fees for Lyft Bay Wheels subscribers. \n",
    "\n"
   ]
  }
 ],
 "metadata": {
  "environment": {
   "name": "tf2-2-3-gpu.2-3.m55",
   "type": "gcloud",
   "uri": "gcr.io/deeplearning-platform-release/tf2-2-3-gpu.2-3:m55"
  },
  "kernelspec": {
   "display_name": "Python 3",
   "language": "python",
   "name": "python3"
  },
  "language_info": {
   "codemirror_mode": {
    "name": "ipython",
    "version": 3
   },
   "file_extension": ".py",
   "mimetype": "text/x-python",
   "name": "python",
   "nbconvert_exporter": "python",
   "pygments_lexer": "ipython3",
   "version": "3.7.8"
  }
 },
 "nbformat": 4,
 "nbformat_minor": 4
}
